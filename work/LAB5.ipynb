{
 "cells": [
  {
   "cell_type": "markdown",
   "id": "c2b46409-81c1-498e-9d8b-0128433517a0",
   "metadata": {},
   "source": [
    "# LAB5 QIC"
   ]
  },
  {
   "cell_type": "code",
   "execution_count": 1,
   "id": "f9bfa4b6-1489-4cf5-9ec2-f2789536b564",
   "metadata": {},
   "outputs": [
    {
     "name": "stdout",
     "output_type": "stream",
     "text": [
      "Collecting qiskit\n",
      "  Downloading qiskit-0.45.0-py3-none-any.whl.metadata (12 kB)\n",
      "Collecting qiskit-aer\n",
      "  Downloading qiskit_aer-0.13.0-cp311-cp311-manylinux_2_17_x86_64.manylinux2014_x86_64.whl.metadata (6.0 kB)\n",
      "Collecting qiskit-terra\n",
      "  Downloading qiskit_terra-0.45.0-cp38-abi3-manylinux_2_17_x86_64.manylinux2014_x86_64.whl.metadata (12 kB)\n",
      "Collecting seaborn\n",
      "  Downloading seaborn-0.13.0-py3-none-any.whl.metadata (5.3 kB)\n",
      "Requirement already satisfied: numpy in /opt/conda/lib/python3.11/site-packages (1.26.1)\n",
      "Requirement already satisfied: matplotlib in /opt/conda/lib/python3.11/site-packages (3.8.1)\n",
      "Requirement already satisfied: pip in /opt/conda/lib/python3.11/site-packages (23.3)\n",
      "Collecting install\n",
      "  Downloading install-1.3.5-py3-none-any.whl (3.2 kB)\n",
      "Collecting qiskit-ibmq-provider\n",
      "  Downloading qiskit_ibmq_provider-0.20.2-py3-none-any.whl (241 kB)\n",
      "\u001b[2K     \u001b[90m━━━━━━━━━━━━━━━━━━━━━━━━━━━━━━━━━━━━━━━\u001b[0m \u001b[32m241.5/241.5 kB\u001b[0m \u001b[31m5.5 MB/s\u001b[0m eta \u001b[36m0:00:00\u001b[0m00:01\u001b[0m\n",
      "\u001b[?25hCollecting rustworkx>=0.13.0 (from qiskit-terra)\n",
      "  Downloading rustworkx-0.13.2-cp311-cp311-manylinux_2_17_x86_64.manylinux2014_x86_64.whl.metadata (10 kB)\n",
      "Collecting ply>=3.10 (from qiskit-terra)\n",
      "  Downloading ply-3.11-py2.py3-none-any.whl (49 kB)\n",
      "\u001b[2K     \u001b[90m━━━━━━━━━━━━━━━━━━━━━━━━━━━━━━━━━━━━━━━━\u001b[0m \u001b[32m49.6/49.6 kB\u001b[0m \u001b[31m1.4 MB/s\u001b[0m eta \u001b[36m0:00:00\u001b[0m\n",
      "\u001b[?25hRequirement already satisfied: psutil>=5 in /opt/conda/lib/python3.11/site-packages (from qiskit-terra) (5.9.5)\n",
      "Requirement already satisfied: scipy>=1.5 in /opt/conda/lib/python3.11/site-packages (from qiskit-terra) (1.11.3)\n",
      "Collecting sympy>=1.3 (from qiskit-terra)\n",
      "  Downloading sympy-1.12-py3-none-any.whl (5.7 MB)\n",
      "\u001b[2K     \u001b[90m━━━━━━━━━━━━━━━━━━━━━━━━━━━━━━━━━━━━━━━━\u001b[0m \u001b[32m5.7/5.7 MB\u001b[0m \u001b[31m20.2 MB/s\u001b[0m eta \u001b[36m0:00:00\u001b[0m00:01\u001b[0m00:01\u001b[0m\n",
      "\u001b[?25hCollecting dill>=0.3 (from qiskit-terra)\n",
      "  Downloading dill-0.3.7-py3-none-any.whl.metadata (9.9 kB)\n",
      "Requirement already satisfied: python-dateutil>=2.8.0 in /opt/conda/lib/python3.11/site-packages (from qiskit-terra) (2.8.2)\n",
      "Collecting stevedore>=3.0.0 (from qiskit-terra)\n",
      "  Downloading stevedore-5.1.0-py3-none-any.whl.metadata (2.2 kB)\n",
      "Collecting symengine<0.10,>=0.9 (from qiskit-terra)\n",
      "  Downloading symengine-0.9.2-cp311-cp311-manylinux_2_12_x86_64.manylinux2010_x86_64.whl (38.6 MB)\n",
      "\u001b[2K     \u001b[90m━━━━━━━━━━━━━━━━━━━━━━━━━━━━━━━━━━━━━━━━\u001b[0m \u001b[32m38.6/38.6 MB\u001b[0m \u001b[31m4.7 MB/s\u001b[0m eta \u001b[36m0:00:00\u001b[0m00:01\u001b[0m00:01\u001b[0m\n",
      "\u001b[?25hCollecting pandas>=1.2 (from seaborn)\n",
      "  Downloading pandas-2.1.3-cp311-cp311-manylinux_2_17_x86_64.manylinux2014_x86_64.whl.metadata (18 kB)\n",
      "Requirement already satisfied: contourpy>=1.0.1 in /opt/conda/lib/python3.11/site-packages (from matplotlib) (1.2.0)\n",
      "Requirement already satisfied: cycler>=0.10 in /opt/conda/lib/python3.11/site-packages (from matplotlib) (0.12.1)\n",
      "Requirement already satisfied: fonttools>=4.22.0 in /opt/conda/lib/python3.11/site-packages (from matplotlib) (4.44.0)\n",
      "Requirement already satisfied: kiwisolver>=1.3.1 in /opt/conda/lib/python3.11/site-packages (from matplotlib) (1.4.5)\n",
      "Requirement already satisfied: packaging>=20.0 in /opt/conda/lib/python3.11/site-packages (from matplotlib) (23.2)\n",
      "Requirement already satisfied: pillow>=8 in /opt/conda/lib/python3.11/site-packages (from matplotlib) (10.1.0)\n",
      "Requirement already satisfied: pyparsing>=2.3.1 in /opt/conda/lib/python3.11/site-packages (from matplotlib) (3.1.1)\n",
      "Requirement already satisfied: requests>=2.19 in /opt/conda/lib/python3.11/site-packages (from qiskit-ibmq-provider) (2.31.0)\n",
      "Collecting requests-ntlm<=1.1.0 (from qiskit-ibmq-provider)\n",
      "  Downloading requests_ntlm-1.1.0-py2.py3-none-any.whl (5.7 kB)\n",
      "Collecting numpy\n",
      "  Downloading numpy-1.23.5-cp311-cp311-manylinux_2_17_x86_64.manylinux2014_x86_64.whl (17.1 MB)\n",
      "\u001b[2K     \u001b[90m━━━━━━━━━━━━━━━━━━━━━━━━━━━━━━━━━━━━━━━━\u001b[0m \u001b[32m17.1/17.1 MB\u001b[0m \u001b[31m19.2 MB/s\u001b[0m eta \u001b[36m0:00:00\u001b[0m00:01\u001b[0m00:01\u001b[0m\n",
      "\u001b[?25hRequirement already satisfied: urllib3>=1.21.1 in /opt/conda/lib/python3.11/site-packages (from qiskit-ibmq-provider) (2.0.7)\n",
      "Requirement already satisfied: websocket-client>=1.5.1 in /opt/conda/lib/python3.11/site-packages (from qiskit-ibmq-provider) (1.6.4)\n",
      "Collecting websockets>=10.0 (from qiskit-ibmq-provider)\n",
      "  Downloading websockets-12.0-cp311-cp311-manylinux_2_5_x86_64.manylinux1_x86_64.manylinux_2_17_x86_64.manylinux2014_x86_64.whl.metadata (6.6 kB)\n",
      "Requirement already satisfied: pytz>=2020.1 in /opt/conda/lib/python3.11/site-packages (from pandas>=1.2->seaborn) (2023.3.post1)\n",
      "Collecting tzdata>=2022.1 (from pandas>=1.2->seaborn)\n",
      "  Downloading tzdata-2023.3-py2.py3-none-any.whl (341 kB)\n",
      "\u001b[2K     \u001b[90m━━━━━━━━━━━━━━━━━━━━━━━━━━━━━━━━━━━━━━\u001b[0m \u001b[32m341.8/341.8 kB\u001b[0m \u001b[31m16.6 MB/s\u001b[0m eta \u001b[36m0:00:00\u001b[0m\n",
      "\u001b[?25hRequirement already satisfied: six>=1.5 in /opt/conda/lib/python3.11/site-packages (from python-dateutil>=2.8.0->qiskit-terra) (1.16.0)\n",
      "Requirement already satisfied: charset-normalizer<4,>=2 in /opt/conda/lib/python3.11/site-packages (from requests>=2.19->qiskit-ibmq-provider) (3.3.0)\n",
      "Requirement already satisfied: idna<4,>=2.5 in /opt/conda/lib/python3.11/site-packages (from requests>=2.19->qiskit-ibmq-provider) (3.4)\n",
      "Requirement already satisfied: certifi>=2017.4.17 in /opt/conda/lib/python3.11/site-packages (from requests>=2.19->qiskit-ibmq-provider) (2023.7.22)\n",
      "Collecting ntlm-auth>=1.0.2 (from requests-ntlm<=1.1.0->qiskit-ibmq-provider)\n",
      "  Downloading ntlm_auth-1.5.0-py2.py3-none-any.whl (29 kB)\n",
      "Requirement already satisfied: cryptography>=1.3 in /opt/conda/lib/python3.11/site-packages (from requests-ntlm<=1.1.0->qiskit-ibmq-provider) (41.0.4)\n",
      "Collecting pbr!=2.1.0,>=2.0.0 (from stevedore>=3.0.0->qiskit-terra)\n",
      "  Downloading pbr-6.0.0-py2.py3-none-any.whl.metadata (1.3 kB)\n",
      "Collecting mpmath>=0.19 (from sympy>=1.3->qiskit-terra)\n",
      "  Downloading mpmath-1.3.0-py3-none-any.whl (536 kB)\n",
      "\u001b[2K     \u001b[90m━━━━━━━━━━━━━━━━━━━━━━━━━━━━━━━━━━━━━━\u001b[0m \u001b[32m536.2/536.2 kB\u001b[0m \u001b[31m14.8 MB/s\u001b[0m eta \u001b[36m0:00:00\u001b[0m00:01\u001b[0m\n",
      "\u001b[?25hRequirement already satisfied: cffi>=1.12 in /opt/conda/lib/python3.11/site-packages (from cryptography>=1.3->requests-ntlm<=1.1.0->qiskit-ibmq-provider) (1.16.0)\n",
      "Requirement already satisfied: pycparser in /opt/conda/lib/python3.11/site-packages (from cffi>=1.12->cryptography>=1.3->requests-ntlm<=1.1.0->qiskit-ibmq-provider) (2.21)\n",
      "Downloading qiskit-0.45.0-py3-none-any.whl (9.6 kB)\n",
      "Downloading qiskit_terra-0.45.0-cp38-abi3-manylinux_2_17_x86_64.manylinux2014_x86_64.whl (6.3 MB)\n",
      "\u001b[2K   \u001b[90m━━━━━━━━━━━━━━━━━━━━━━━━━━━━━━━━━━━━━━━━\u001b[0m \u001b[32m6.3/6.3 MB\u001b[0m \u001b[31m11.3 MB/s\u001b[0m eta \u001b[36m0:00:00\u001b[0m00:01\u001b[0m00:01\u001b[0m\n",
      "\u001b[?25hDownloading qiskit_aer-0.13.0-cp311-cp311-manylinux_2_17_x86_64.manylinux2014_x86_64.whl (12.3 MB)\n",
      "\u001b[2K   \u001b[90m━━━━━━━━━━━━━━━━━━━━━━━━━━━━━━━━━━━━━━━━\u001b[0m \u001b[32m12.3/12.3 MB\u001b[0m \u001b[31m7.6 MB/s\u001b[0m eta \u001b[36m0:00:00\u001b[0m00:01\u001b[0m00:01\u001b[0m\n",
      "\u001b[?25hDownloading seaborn-0.13.0-py3-none-any.whl (294 kB)\n",
      "\u001b[2K   \u001b[90m━━━━━━━━━━━━━━━━━━━━━━━━━━━━━━━━━━━━━━━━\u001b[0m \u001b[32m294.6/294.6 kB\u001b[0m \u001b[31m10.1 MB/s\u001b[0m eta \u001b[36m0:00:00\u001b[0m\n",
      "\u001b[?25hDownloading dill-0.3.7-py3-none-any.whl (115 kB)\n",
      "\u001b[2K   \u001b[90m━━━━━━━━━━━━━━━━━━━━━━━━━━━━━━━━━━━━━━━━\u001b[0m \u001b[32m115.3/115.3 kB\u001b[0m \u001b[31m6.4 MB/s\u001b[0m eta \u001b[36m0:00:00\u001b[0m\n",
      "\u001b[?25hDownloading pandas-2.1.3-cp311-cp311-manylinux_2_17_x86_64.manylinux2014_x86_64.whl (12.2 MB)\n",
      "\u001b[2K   \u001b[90m━━━━━━━━━━━━━━━━━━━━━━━━━━━━━━━━━━━━━━━━\u001b[0m \u001b[32m12.2/12.2 MB\u001b[0m \u001b[31m10.1 MB/s\u001b[0m eta \u001b[36m0:00:00\u001b[0m00:01\u001b[0m0:01\u001b[0m\n",
      "\u001b[?25hDownloading rustworkx-0.13.2-cp311-cp311-manylinux_2_17_x86_64.manylinux2014_x86_64.whl (2.0 MB)\n",
      "\u001b[2K   \u001b[90m━━━━━━━━━━━━━━━━━━━━━━━━━━━━━━━━━━━━━━━━\u001b[0m \u001b[32m2.0/2.0 MB\u001b[0m \u001b[31m14.4 MB/s\u001b[0m eta \u001b[36m0:00:00\u001b[0m00:01\u001b[0m00:01\u001b[0m\n",
      "\u001b[?25hDownloading stevedore-5.1.0-py3-none-any.whl (49 kB)\n",
      "\u001b[2K   \u001b[90m━━━━━━━━━━━━━━━━━━━━━━━━━━━━━━━━━━━━━━━━\u001b[0m \u001b[32m49.6/49.6 kB\u001b[0m \u001b[31m2.8 MB/s\u001b[0m eta \u001b[36m0:00:00\u001b[0m\n",
      "\u001b[?25hDownloading websockets-12.0-cp311-cp311-manylinux_2_5_x86_64.manylinux1_x86_64.manylinux_2_17_x86_64.manylinux2014_x86_64.whl (130 kB)\n",
      "\u001b[2K   \u001b[90m━━━━━━━━━━━━━━━━━━━━━━━━━━━━━━━━━━━━━━━━\u001b[0m \u001b[32m130.9/130.9 kB\u001b[0m \u001b[31m8.0 MB/s\u001b[0m eta \u001b[36m0:00:00\u001b[0m\n",
      "\u001b[?25hDownloading pbr-6.0.0-py2.py3-none-any.whl (107 kB)\n",
      "\u001b[2K   \u001b[90m━━━━━━━━━━━━━━━━━━━━━━━━━━━━━━━━━━━━━━━━\u001b[0m \u001b[32m107.5/107.5 kB\u001b[0m \u001b[31m6.3 MB/s\u001b[0m eta \u001b[36m0:00:00\u001b[0m\n",
      "\u001b[?25hInstalling collected packages: ply, mpmath, websockets, tzdata, sympy, symengine, pbr, numpy, ntlm-auth, install, dill, stevedore, rustworkx, pandas, requests-ntlm, qiskit-terra, seaborn, qiskit-ibmq-provider, qiskit, qiskit-aer\n",
      "  Attempting uninstall: numpy\n",
      "    Found existing installation: numpy 1.26.1\n",
      "    Uninstalling numpy-1.26.1:\n",
      "      Successfully uninstalled numpy-1.26.1\n",
      "Successfully installed dill-0.3.7 install-1.3.5 mpmath-1.3.0 ntlm-auth-1.5.0 numpy-1.23.5 pandas-2.1.3 pbr-6.0.0 ply-3.11 qiskit-0.45.0 qiskit-aer-0.13.0 qiskit-ibmq-provider-0.20.2 qiskit-terra-0.45.0 requests-ntlm-1.1.0 rustworkx-0.13.2 seaborn-0.13.0 stevedore-5.1.0 symengine-0.9.2 sympy-1.12 tzdata-2023.3 websockets-12.0\n"
     ]
    }
   ],
   "source": [
    "!pip install qiskit qiskit-aer qiskit-terra seaborn numpy matplotlib pip install qiskit-ibmq-provider"
   ]
  },
  {
   "cell_type": "code",
   "execution_count": 3,
   "id": "dfc776d6-5228-449c-bc1a-13a332205f67",
   "metadata": {},
   "outputs": [
    {
     "data": {
      "text/html": [
       "<h3>Version Information</h3><table><tr><th>Software</th><th>Version</th></tr><tr><td><code>qiskit</code></td><td>0.45.0</td></tr><tr><th colspan='2'>System information</th></tr><tr><td>Python version</td><td>3.11.6</td></tr><tr><td>Python compiler</td><td>GCC 12.3.0</td></tr><tr><td>Python build</td><td>main, Oct  3 2023 10:40:35</td></tr><tr><td>OS</td><td>Linux</td></tr><tr><td>CPUs</td><td>8</td></tr><tr><td>Memory (Gb)</td><td>7.758083343505859</td></tr><tr><td colspan='2'>Fri Nov 17 10:18:17 2023 UTC</td></tr></table>"
      ],
      "text/plain": [
       "<IPython.core.display.HTML object>"
      ]
     },
     "metadata": {},
     "output_type": "display_data"
    }
   ],
   "source": [
    "import qiskit.tools.jupyter\n",
    "%qiskit_version_table"
   ]
  },
  {
   "cell_type": "code",
   "execution_count": 4,
   "id": "fbb843e8-e0b7-4dde-a1d8-7594f2dfd2d1",
   "metadata": {},
   "outputs": [],
   "source": [
    "from qiskit import IBMQ, Aer, transpile, execute\n",
    "from qiskit import QuantumCircuit, ClassicalRegister, QuantumRegister, assemble\n",
    "from qiskit.visualization import plot_histogram, plot_bloch_vector,plot_bloch_multivector\n",
    "from qiskit import IBMQ\n",
    "import math\n",
    "from qiskit.providers.ibmq import least_busy\n",
    "from qiskit.tools.monitor import job_monitor\n",
    "import numpy as np"
   ]
  },
  {
   "cell_type": "markdown",
   "id": "2aec8bb6-0194-4f06-b70f-ae44f4fb8503",
   "metadata": {},
   "source": [
    "## Quantum Key Distribution\n",
    "\n",
    "### Protocol overview\n",
    "\n",
    "The protocol makes use of the fact that measuring a qubit can change its state. As such, if Alice sends Bob a qubit and the eavesdropper (Eve) tries to measure it before Bob does, then there's a chance that Eve's measurement will change the state of the qubit and Bob will receive the qubit in a different state than the one Alice sent."
   ]
  },
  {
   "cell_type": "markdown",
   "id": "5332c8b6-972a-4ed4-b98d-aba869c1eca7",
   "metadata": {},
   "source": [
    "For example, if Alice prepares a qubit in the state $\\ket{+} (0 in the X-basis) and Bob measures it in the same basis, then Bob will measure 0:"
   ]
  },
  {
   "cell_type": "code",
   "execution_count": 6,
   "id": "f4bf7d2b-1018-4341-9841-b0f7b832ae41",
   "metadata": {},
   "outputs": [
    {
     "name": "stderr",
     "output_type": "stream",
     "text": [
      "/opt/conda/lib/python3.11/site-packages/qiskit/visualization/circuit/matplotlib.py:266: FutureWarning: The default matplotlib drawer scheme will be changed to \"iqp\" in a following release. To silence this warning, specify the current default explicitly as style=\"clifford\", or the new default as style=\"iqp\".\n",
      "  self._style, def_font_ratio = load_style(self._style)\n"
     ]
    },
    {
     "data": {
      "image/png": "[encoded data removed]",
      "text/plain": [
       "<Figure size 436.286x200.667 with 1 Axes>"
      ]
     },
     "execution_count": 6,
     "metadata": {},
     "output_type": "execute_result"
    }
   ],
   "source": [
    "qc = QuantumCircuit(1,1)\n",
    "# Alice prepares the qubit in state |+>\n",
    "qc.h(0)\n",
    "qc.barrier()\n",
    "# Alice sends the qubit to Bob who will measure it in the X-basis\n",
    "qc.h(0)\n",
    "qc.measure(0,0)\n",
    "qc.draw(output=\"mpl\")"
   ]
  },
  {
   "cell_type": "code",
   "execution_count": 7,
   "id": "be4bc686-fde5-4ab2-98fe-e615aa6fca00",
   "metadata": {},
   "outputs": [
    {
     "data": {
      "image/png": "[encoded data removed]",
      "text/plain": [
       "<Figure size 700x500 with 1 Axes>"
      ]
     },
     "execution_count": 7,
     "metadata": {},
     "output_type": "execute_result"
    }
   ],
   "source": [
    "aer_sim = Aer.get_backend('aer_simulator')\n",
    "job = aer_sim.run(qc)\n",
    "plot_histogram(job.result().get_counts())"
   ]
  },
  {
   "cell_type": "markdown",
   "id": "08246aec-7244-4daa-89f1-15c87ce6e551",
   "metadata": {},
   "source": [
    "But if Eve tries to measure the qubit in the Z-basis before it reaches Bob, then she will change the qubit's state from $\\ket{+}$ to $\\ket{0}$ or $\\ket{1}$, thus Bob will not measure 0."
   ]
  },
  {
   "cell_type": "code",
   "execution_count": 8,
   "id": "5aaa5607-6d89-4736-b009-ab0289ca2738",
   "metadata": {},
   "outputs": [
    {
     "name": "stderr",
     "output_type": "stream",
     "text": [
      "/opt/conda/lib/python3.11/site-packages/qiskit/visualization/circuit/matplotlib.py:266: FutureWarning: The default matplotlib drawer scheme will be changed to \"iqp\" in a following release. To silence this warning, specify the current default explicitly as style=\"clifford\", or the new default as style=\"iqp\".\n",
      "  self._style, def_font_ratio = load_style(self._style)\n"
     ]
    },
    {
     "data": {
      "image/png": "[encoded data removed]",
      "text/plain": [
       "<Figure size 603.508x200.667 with 1 Axes>"
      ]
     },
     "execution_count": 8,
     "metadata": {},
     "output_type": "execute_result"
    }
   ],
   "source": [
    "qc = QuantumCircuit(1,1)\n",
    "# Alice prepares the qubit in state |+>\n",
    "qc.h(0)\n",
    "qc.barrier()\n",
    "# Alice sends the qubit to Bob but Eve intercepts and tries to read it\n",
    "qc.measure(0,0)\n",
    "qc.barrier()\n",
    "# Then Eve passes the qubit to Bob who will measure it in X-basis\n",
    "qc.h(0)\n",
    "qc.measure(0,0)\n",
    "qc.draw(output=\"mpl\")"
   ]
  },
  {
   "cell_type": "code",
   "execution_count": 9,
   "id": "0cccb116-eb01-4a02-8c99-220a96199edb",
   "metadata": {},
   "outputs": [
    {
     "data": {
      "image/png": "[encoded data removed]",
      "text/plain": [
       "<Figure size 700x500 with 1 Axes>"
      ]
     },
     "execution_count": 9,
     "metadata": {},
     "output_type": "execute_result"
    }
   ],
   "source": [
    "aer_sim = Aer.get_backend('aer_simulator')\n",
    "job = aer_sim.run(qc)\n",
    "plot_histogram(job.result().get_counts())"
   ]
  },
  {
   "cell_type": "markdown",
   "id": "34376657-6837-40a9-aa5e-15cf4f2075d2",
   "metadata": {},
   "source": [
    "Thus, now Bob has a 50% chance of measuring 1, and if he does, both he and Alice will know there is something wrong with their channel.\n",
    "\n",
    "The **QKD** protocol involves repeating this process enough times that an eavesdropper has a negligible chance of getting away with this interception. The Steps are:\n",
    "\n",
    "#### Step 1\n",
    "\n",
    "Alice chooses a string of random bits (e.g.: 1000101011010100) and a random choice of basis for each bit (ZZXZXXXZXZXXXXXX) and keeps these pieces of information private to herself."
   ]
  },
  {
   "cell_type": "markdown",
   "id": "ecab3d34-67b5-429e-9088-452d180bbdad",
   "metadata": {},
   "source": [
    "#### Step 2\n",
    "\n",
    "Alice encodes each bit into a string of qubits using the basis she chose; Thus, each qubit can be in one of the states: $\\ket{0}$, $\\ket{1}$, $\\ket{+}$, and $\\ket{-}$, chosen at random. Thus, in this example, the string of qubits will look like this:\n",
    "\n",
    "$$\n",
    "\\ket{1}\\ket{0}\\ket{+}\\ket{0}\\ket{-}\\ket{+}\\ket{-}\\ket{0}\\ket{-}\\ket{1}\\ket{+}\\ket{-}\\ket{+}\\ket{-}\\ket{+}\\ket{+}.\n",
    "$$\n",
    "\n",
    "This is the message she sends to Bob."
   ]
  },
  {
   "cell_type": "markdown",
   "id": "541d7811-1bfe-42a2-87f1-5dcdfca72664",
   "metadata": {},
   "source": [
    "#### Step 3\n",
    "\n",
    "Bob measures each qubit using a random choice of basis (e.g.: XZZZXZXZXZXZZZXZ) and keeps the results private."
   ]
  },
  {
   "cell_type": "markdown",
   "id": "4de2e8a0-8f84-48cd-9715-70fe12d5b6d6",
   "metadata": {},
   "source": [
    "#### Step 4\n",
    "\n",
    "Bob and Alice now publicly share wich basis they used for each qubit. If bob measured a qubit in the same basis Alice prepared it in, they use it to form part of their shared secret key, otherwise they'll discard the information for that bit."
   ]
  },
  {
   "cell_type": "markdown",
   "id": "4e75f4b3-5cc0-4111-a782-7407906a172f",
   "metadata": {},
   "source": [
    "#### Step 5\n",
    "\n",
    "Finally, Bob and Alice share a random sample of their keys, and if the samples match, they can be sure (to a small margin of error) that their transmission is successful."
   ]
  },
  {
   "cell_type": "markdown",
   "id": "87795819-ec88-416f-a80d-bb4a32a4ab4e",
   "metadata": {},
   "source": [
    "### Example without interception"
   ]
  },
  {
   "cell_type": "code",
   "execution_count": 20,
   "id": "02c87ab2-6df3-463f-8839-a1805ee91e15",
   "metadata": {},
   "outputs": [],
   "source": [
    "np.random.seed(seed = 0)"
   ]
  },
  {
   "cell_type": "code",
   "execution_count": 21,
   "id": "f05d8b3e-50f1-4f7a-998e-ee3fef488220",
   "metadata": {},
   "outputs": [],
   "source": [
    "# n is the length of Alice's initial message.\n",
    "n = 128"
   ]
  },
  {
   "cell_type": "code",
   "execution_count": 22,
   "id": "2d54e5d2-fa89-42af-b7c3-1f0ff7141498",
   "metadata": {},
   "outputs": [
    {
     "name": "stdout",
     "output_type": "stream",
     "text": [
      "[0 1 1 0 1 1 1 1 1 1 1 0 0 1 0 0 0 0 0 1 0 1 1 0 0 1 1 1 1 0 1 0 1 0 1 1 0\n",
      " 1 1 0 0 1 0 1 1 1 1 1 0 1 0 1 1 1 1 0 1 0 0 1 1 0 1 0 1 0 0 0 0 0 1 1 0 0\n",
      " 0 1 1 0 1 0 0 1 0 1 1 1 1 1 1 0 1 1 0 0 1 0 0 1 1 0 1 0 0 1 0 0 0 1 1 0 1\n",
      " 0 0 0 0 0 1 0 1 0 1 1 1 1 1 0 1 1]\n"
     ]
    }
   ],
   "source": [
    "# Step 1 -> generate a random set of bits\n",
    "alice_bits = np.random.randint(2, size = n)\n",
    "print(alice_bits)"
   ]
  },
  {
   "cell_type": "markdown",
   "id": "3e5c832d-25f6-4950-9376-6c1327868030",
   "metadata": {},
   "source": [
    "| Alice's knowledge | Eve's channel | Bob's knowledge |\n",
    "|-------------------|---------------|-----------------|\n",
    "| alice_bits        |               |                 |"
   ]
  },
  {
   "cell_type": "code",
   "execution_count": 23,
   "id": "b0fb0004-b4e1-4751-a391-4fca10aae475",
   "metadata": {},
   "outputs": [
    {
     "name": "stdout",
     "output_type": "stream",
     "text": [
      "[1 1 0 1 1 0 0 1 0 0 0 0 1 1 0 0 1 0 1 1 1 1 0 0 0 1 0 1 1 1 0 1 0 0 1 0 1\n",
      " 1 0 0 1 0 1 0 1 0 1 0 1 0 0 0 1 0 1 0 1 0 0 0 0 0 1 0 0 1 0 0 0 1 0 0 1 0\n",
      " 1 0 0 1 1 0 0 0 1 1 0 0 0 0 0 1 0 1 0 0 0 1 1 1 0 0 1 1 1 1 0 0 0 1 1 0 1\n",
      " 0 0 1 0 1 1 1 1 0 0 0 1 1 1 0 1 1]\n"
     ]
    }
   ],
   "source": [
    "# Step 2 -> Alice encodes each bit into a string of qubits in the X or Z-basis, at random. \n",
    "# We generate a random string of bits, a 0 means prepare in Z-basis, while a 1 means prepare in X-basis\n",
    "alice_bases = np.random.randint(2, size = n)\n",
    "print(alice_bases)"
   ]
  },
  {
   "cell_type": "markdown",
   "id": "5d90ff29-91c7-4ef9-ac81-c70703e31a2b",
   "metadata": {},
   "source": [
    "| Alice's knowledge | Eve's channel | Bob's knowledge |\n",
    "|-------------------|---------------|-----------------|\n",
    "| alice_bits        |               |                 |\n",
    "| alice_bases       |               |                 |"
   ]
  },
  {
   "cell_type": "code",
   "execution_count": 29,
   "id": "f70893c5-1d54-4a8e-b528-48ce648a75e8",
   "metadata": {},
   "outputs": [],
   "source": [
    "# we define a function to encode the message in the corresponding basis\n",
    "def encode(bits, bases, n):\n",
    "    message = []\n",
    "    for i in range(n):\n",
    "        qc = QuantumCircuit(1,1)\n",
    "        if bases[i] == 0: #prepare in Z-basis\n",
    "            if bits[i] == 0:\n",
    "                pass\n",
    "            else:\n",
    "                qc.x(0)\n",
    "        else: # prepare in X basis\n",
    "            if bits[i] == 0:\n",
    "                qc.h(0)\n",
    "            else:\n",
    "                qc.x(0)\n",
    "                qc.h(0)\n",
    "        qc.barrier()\n",
    "        message.append(qc)\n",
    "    return message"
   ]
  },
  {
   "cell_type": "code",
   "execution_count": 30,
   "id": "4e32601f-a60e-4c04-ad42-8e352985d85c",
   "metadata": {},
   "outputs": [],
   "source": [
    "# And encode Alice's message\n",
    "message = encode(alice_bits, alice_bases,n)"
   ]
  },
  {
   "cell_type": "code",
   "execution_count": 31,
   "id": "89cfef37-712c-4e42-8519-4bf2de898843",
   "metadata": {},
   "outputs": [
    {
     "name": "stdout",
     "output_type": "stream",
     "text": [
      "bit = 0\n",
      "basis=1\n"
     ]
    },
    {
     "data": {
      "image/png": "[encoded data removed]",
      "text/plain": [
       "<Figure size 269.064x200.667 with 1 Axes>"
      ]
     },
     "execution_count": 31,
     "metadata": {},
     "output_type": "execute_result"
    }
   ],
   "source": [
    "print('bit = %i' % alice_bits[0])\n",
    "print('basis=%i' % alice_bases[0])\n",
    "message[0].draw(output=\"mpl\")"
   ]
  },
  {
   "cell_type": "markdown",
   "id": "1e1e64eb-0bb4-44d4-acae-1076ce58ea68",
   "metadata": {},
   "source": [
    "| Alice's knowledge | Eve's channel | Bob's knowledge |\n",
    "|-------------------|---------------|-----------------|\n",
    "| alice_bits        |               |                 |\n",
    "| alice_bases       |               |                 |\n",
    "| message           | message       | message         |"
   ]
  },
  {
   "cell_type": "code",
   "execution_count": 28,
   "id": "5bda0b2a-1ab8-4912-93a8-3b7ccce7d86e",
   "metadata": {},
   "outputs": [
    {
     "name": "stdout",
     "output_type": "stream",
     "text": [
      "[1 1 0 0 1 1 0 0 0 1 1 0 1 1 1 1 1 0 0 0 1 0 1 0 1 1 0 0 0 1 0 0 1 1 1 1 0\n",
      " 1 0 0 0 0 1 1 1 0 1 0 0 1 1 1 1 1 1 0 0 1 1 1 1 1 1 1 1 1 1 0 0 0 0 1 1 1\n",
      " 0 1 1 1 1 1 1 1 0 0 0 0 1 1 0 1 0 0 1 0 1 0 1 0 0 0 0 1 1 1 0 1 0 1 0 0 0\n",
      " 0 1 1 1 0 1 0 0 1 1 1 0 1 1 0 1 0]\n"
     ]
    }
   ],
   "source": [
    "# Step 3 Bob measure each qubit in a random base, X or Z\n",
    "bob_bases = np.random.randint(2, size = n)\n",
    "print(bob_bases)"
   ]
  },
  {
   "cell_type": "markdown",
   "id": "b1d9448c-6253-4e0d-b45d-458c9a012379",
   "metadata": {},
   "source": [
    "| Alice's knowledge | Eve's channel | Bob's knowledge |\n",
    "|-------------------|---------------|-----------------|\n",
    "| alice_bits        |               |                 |\n",
    "| alice_bases       |               |                 |\n",
    "| message           | message       | message         |\n",
    "|                   |               | bob_bases       |"
   ]
  },
  {
   "cell_type": "code",
   "execution_count": 36,
   "id": "f1386f04-81d6-40a0-8806-f52184e20fad",
   "metadata": {},
   "outputs": [],
   "source": [
    "#Define a function to measure message\n",
    "def measure_message(message, bases, n):\n",
    "    backend = Aer.get_backend(\"aer_simulator\")\n",
    "    results = []\n",
    "    for q in range(n):\n",
    "        if bases[q] == 0: #measuring in Z-basis\n",
    "            message[q].measure(0,0)\n",
    "        else: #measuring in X-basis\n",
    "            message[q].h(0)\n",
    "            message[q].measure(0,0)\n",
    "        result = backend.run(message[q], shots = 1, memory = True).result()\n",
    "        measured_bit = int(result.get_memory()[0])\n",
    "        results.append(measured_bit)\n",
    "    return results"
   ]
  },
  {
   "cell_type": "code",
   "execution_count": 37,
   "id": "ac90ceb5-3302-4ebd-80fd-87b962915ac4",
   "metadata": {},
   "outputs": [],
   "source": [
    "bob_results = measure_message(message, bob_bases, n)"
   ]
  },
  {
   "cell_type": "code",
   "execution_count": 38,
   "id": "311624dd-145e-441a-90e6-3552d2026470",
   "metadata": {},
   "outputs": [
    {
     "data": {
      "image/png": "[encoded data removed]",
      "text/plain": [
       "<Figure size 436.286x200.667 with 1 Axes>"
      ]
     },
     "execution_count": 38,
     "metadata": {},
     "output_type": "execute_result"
    }
   ],
   "source": [
    "message[0].draw(output='mpl')"
   ]
  },
  {
   "cell_type": "code",
   "execution_count": 39,
   "id": "529479b3-95b8-4d94-8e1b-a08caf3a2481",
   "metadata": {},
   "outputs": [
    {
     "name": "stdout",
     "output_type": "stream",
     "text": [
      "[0, 1, 1, 0, 1, 0, 1, 0, 1, 1, 1, 0, 0, 1, 0, 0, 0, 0, 0, 1, 0, 0, 0, 0, 1, 1, 1, 0, 0, 0, 1, 0, 1, 0, 1, 0, 1, 1, 1, 0, 1, 1, 0, 0, 1, 1, 1, 1, 0, 1, 1, 0, 1, 1, 1, 0, 0, 1, 0, 1, 1, 1, 1, 1, 1, 0, 0, 0, 0, 1, 1, 0, 0, 1, 1, 0, 1, 0, 1, 0, 0, 0, 1, 0, 1, 1, 0, 0, 1, 0, 1, 1, 0, 0, 0, 1, 0, 1, 1, 0, 0, 0, 0, 1, 0, 0, 0, 1, 0, 0, 1, 0, 0, 0, 0, 1, 1, 1, 1, 0, 0, 0, 0, 1, 1, 0, 1, 0]\n"
     ]
    }
   ],
   "source": [
    "print(bob_results)"
   ]
  },
  {
   "cell_type": "markdown",
   "id": "bca7676c-d182-493d-aa06-224d4a875a6a",
   "metadata": {},
   "source": [
    "| Alice's knowledge | Eve's channel | Bob's knowledge |\n",
    "|-------------------|---------------|-----------------|\n",
    "| alice_bits        |               |                 |\n",
    "| alice_bases       |               |                 |\n",
    "| message           | message       | message         |\n",
    "|                   |               | bob_bases       |\n",
    "|                   |               | bob_result      |"
   ]
  },
  {
   "cell_type": "markdown",
   "id": "caae6ca4-14e7-440a-9fda-51178d5334c8",
   "metadata": {},
   "source": [
    "Now, Alice reveals which qubits were encoded in which basis:\n",
    "| Alice's knowledge | Eve's channel | Bob's knowledge |\n",
    "|-------------------|---------------|-----------------|\n",
    "| alice_bits        |               |                 |\n",
    "| alice_bases       |               |                 |\n",
    "| message           | message       | message         |\n",
    "|                   |               | bob_bases       |\n",
    "|                   | alice_bases   | alice_bases     |"
   ]
  },
  {
   "cell_type": "markdown",
   "id": "4d03b363-2c7b-4fc0-a617-04a7ce6bb011",
   "metadata": {},
   "source": [
    "And Bob reveals in which basis he measured each qubit:\n",
    "| Alice's knowledge | Eve's channel | Bob's knowledge |\n",
    "|-------------------|---------------|-----------------|\n",
    "| alice_bits        |               |                 |\n",
    "| alice_bases       |               |                 |\n",
    "| message           | message       | message         |\n",
    "|                   |               | bob_bases       |\n",
    "|                   | alice_bases   | alice_bases     |\n",
    "| bob_bases         | bob_bases     |                 |"
   ]
  },
  {
   "cell_type": "code",
   "execution_count": 42,
   "id": "bcb84c39-42ba-4a1b-a805-653e584ace59",
   "metadata": {},
   "outputs": [],
   "source": [
    "#Step 4, Bob and Alice create their key\n",
    "def create_key(a_bases, b_bases, bits, n):\n",
    "    key = []\n",
    "    for q in range(n):\n",
    "        if a_bases[q] == b_bases[q]:\n",
    "            key.append(bits[q])\n",
    "    return key"
   ]
  },
  {
   "cell_type": "code",
   "execution_count": 53,
   "id": "d9819bd9-97bf-4868-b495-13dd6dc8ded8",
   "metadata": {},
   "outputs": [
    {
     "name": "stdout",
     "output_type": "stream",
     "text": [
      "Alice's 61 key: [0, 1, 1, 1, 1, 1, 0, 0, 1, 0, 0, 0, 0, 1, 1, 0, 1, 1, 1, 1, 0, 1, 0, 1, 1, 1, 1, 1, 1, 0, 1, 0, 0, 0, 1, 0, 0, 1, 1, 1, 1, 0, 1, 0, 0, 1, 0, 0, 0, 1, 0, 0, 1, 0, 0, 0, 1, 1, 1, 0, 1]\n"
     ]
    }
   ],
   "source": [
    "alice_key = create_key(alice_bases,bob_bases,alice_bits,n)\n",
    "print(f\"Alice's {len(alice_key)} key: {alice_key}\")"
   ]
  },
  {
   "cell_type": "markdown",
   "id": "96a23444-cb3d-40af-b19d-cb0d11991efc",
   "metadata": {},
   "source": [
    "| Alice's knowledge | Eve's channel | Bob's knowledge |\n",
    "|-------------------|---------------|-----------------|\n",
    "| alice_bits        |               |                 |\n",
    "| alice_bases       |               |                 |\n",
    "| message           | message       | message         |\n",
    "|                   |               | bob_bases       |\n",
    "|                   | alice_bases   | alice_bases     |\n",
    "| bob_bases         | bob_bases     |                 |\n",
    "| alice_key         |               |                 |"
   ]
  },
  {
   "cell_type": "code",
   "execution_count": 54,
   "id": "9a0f8227-409e-4065-8afe-5571b29679b5",
   "metadata": {},
   "outputs": [
    {
     "name": "stdout",
     "output_type": "stream",
     "text": [
      "Bob's 61 key: [0, 1, 1, 1, 1, 1, 0, 0, 1, 0, 0, 0, 0, 1, 1, 0, 1, 1, 1, 1, 0, 1, 0, 1, 1, 1, 1, 1, 1, 0, 1, 0, 0, 0, 1, 0, 0, 1, 1, 1, 1, 0, 1, 0, 0, 1, 0, 0, 0, 1, 0, 0, 1, 0, 0, 0, 1, 1, 1, 0, 1]\n"
     ]
    }
   ],
   "source": [
    "bob_key = create_key(alice_bases, bob_bases, bob_results,n)\n",
    "print(f\"Bob's {len(bob_key)} key: {bob_key}\" )"
   ]
  },
  {
   "cell_type": "markdown",
   "id": "d9b32e97-f566-4971-bc29-b575d9604c81",
   "metadata": {},
   "source": [
    "| Alice's knowledge | Eve's channel | Bob's knowledge |\n",
    "|-------------------|---------------|-----------------|\n",
    "| alice_bits        |               |                 |\n",
    "| alice_bases       |               |                 |\n",
    "| message           | message       | message         |\n",
    "|                   |               | bob_bases       |\n",
    "|                   | alice_bases   | alice_bases     |\n",
    "| bob_bases         | bob_bases     |                 |\n",
    "| alice_key         |               | bob_key         |\n"
   ]
  },
  {
   "cell_type": "code",
   "execution_count": 55,
   "id": "5cc1292f-a71c-4d47-bbbe-0099c1de0adc",
   "metadata": {},
   "outputs": [],
   "source": [
    "#Step 5, they finally compare a random selection of bits in their keys to make sure the protocol has worked correctly\n",
    "def sample_bits(bits, selection):\n",
    "    sample = []\n",
    "    for i in selection:\n",
    "        i = np.mod(i, len(bits))\n",
    "        sample.append(bits.pop(i))\n",
    "    return sample"
   ]
  },
  {
   "cell_type": "code",
   "execution_count": 56,
   "id": "ccd81265-64ba-41dc-b48a-97eae668d489",
   "metadata": {},
   "outputs": [],
   "source": [
    "sample_size = 32\n",
    "bit_selection = np.random.randint(n, size = sample_size)"
   ]
  },
  {
   "cell_type": "code",
   "execution_count": 57,
   "id": "77930ab9-bc25-47f4-93ac-1153af82d25d",
   "metadata": {},
   "outputs": [
    {
     "name": "stdout",
     "output_type": "stream",
     "text": [
      "Bob's sample:\t[0, 0, 0, 1, 1, 1, 0, 1, 1, 0, 0, 1, 1, 0, 1, 1, 0, 0, 1, 0, 1, 1, 0, 1, 1, 0, 1, 0, 0, 0, 1, 0]\n",
      "Alice's sample:\t[0, 0, 0, 1, 1, 1, 0, 1, 1, 0, 0, 1, 1, 0, 1, 1, 0, 0, 1, 0, 1, 1, 0, 1, 1, 0, 1, 0, 0, 0, 1, 0]\n"
     ]
    }
   ],
   "source": [
    "bob_sample = sample_bits(bob_key, bit_selection)\n",
    "alice_sample = sample_bits(alice_key, bit_selection)\n",
    "print(f\"Bob's sample:\\t{bob_sample}\\nAlice's sample:\\t{alice_sample}\")"
   ]
  },
  {
   "cell_type": "markdown",
   "id": "f92d1ec5-430c-4883-ab33-a4596fafc164",
   "metadata": {},
   "source": [
    "| Alice's knowledge | Eve's channel | Bob's knowledge |\n",
    "|-------------------|---------------|-----------------|\n",
    "| alice_bits        |               |                 |\n",
    "| alice_bases       |               |                 |\n",
    "| message           | message       | message         |\n",
    "|                   |               | bob_bases       |\n",
    "|                   | alice_bases   | alice_bases     |\n",
    "| bob_bases         | bob_bases     |                 |\n",
    "| alice_key         |               | bob_key         |\n",
    "| bob_sample        | bob_sample    | bob_sample      |\n",
    "| alice_sample      | alice_sample  | alice_sample    |"
   ]
  },
  {
   "cell_type": "code",
   "execution_count": 58,
   "id": "4ff55564-7a7f-4721-accb-9de67529de78",
   "metadata": {},
   "outputs": [
    {
     "data": {
      "text/plain": [
       "True"
      ]
     },
     "execution_count": 58,
     "metadata": {},
     "output_type": "execute_result"
    }
   ],
   "source": [
    "bob_sample == alice_sample"
   ]
  },
  {
   "cell_type": "markdown",
   "id": "2256abf8-62d2-41a8-b4a5-d5ef690dfd9e",
   "metadata": {},
   "source": [
    "| Alice's knowledge | Eve's channel | Bob's knowledge |\n",
    "|-------------------|---------------|-----------------|\n",
    "| alice_bits        |               |                 |\n",
    "| alice_bases       |               |                 |\n",
    "| message           | message       | message         |\n",
    "|                   |               | bob_bases       |\n",
    "|                   | alice_bases   | alice_bases     |\n",
    "| bob_bases         | bob_bases     |                 |\n",
    "| alice_key         |               | bob_key         |\n",
    "| bob_sample        | bob_sample    | bob_sample      |\n",
    "| alice_sample      | alice_sample  | alice_sample    |\n",
    "| shared_key        |               | shared_key      |"
   ]
  },
  {
   "cell_type": "code",
   "execution_count": 59,
   "id": "7a22dd99-17c9-4e73-b2cf-a7553c0b4bbd",
   "metadata": {},
   "outputs": [
    {
     "name": "stdout",
     "output_type": "stream",
     "text": [
      "[1, 1, 1, 1, 1, 0, 1, 1, 1, 1, 1, 1, 0, 0, 0, 1, 1, 0, 1, 0, 0, 0, 0, 1, 0, 0, 0, 1, 1]\n",
      "[1, 1, 1, 1, 1, 0, 1, 1, 1, 1, 1, 1, 0, 0, 0, 1, 1, 0, 1, 0, 0, 0, 0, 1, 0, 0, 0, 1, 1]\n",
      "key length = 29\n"
     ]
    }
   ],
   "source": [
    "print(bob_key)\n",
    "print(alice_key)\n",
    "print(\"key length = %i\" % len(alice_key))"
   ]
  },
  {
   "cell_type": "markdown",
   "id": "b861a17e-fd3b-4bad-bd90-8d7ee7c31846",
   "metadata": {},
   "source": [
    "### Example with interception"
   ]
  },
  {
   "cell_type": "code",
   "execution_count": 72,
   "id": "bd71642c-53e7-438c-931a-eb728ef52f58",
   "metadata": {},
   "outputs": [],
   "source": [
    "np.random.seed(3)"
   ]
  },
  {
   "cell_type": "code",
   "execution_count": 73,
   "id": "5fda4a7d-c1bb-4031-b212-3d5081e68625",
   "metadata": {},
   "outputs": [],
   "source": [
    "# n is the length of Alice's initial message.\n",
    "n = 128"
   ]
  },
  {
   "cell_type": "code",
   "execution_count": 74,
   "id": "33be4a9d-e5e5-4640-a35d-bfa13ad49c49",
   "metadata": {},
   "outputs": [
    {
     "name": "stdout",
     "output_type": "stream",
     "text": [
      "[0 0 1 1 0 0 0 1 1 1 0 1 1 1 0 1 1 0 0 0 0 1 1 0 0 0 1 0 0 0 0 1 0 1 1 0 1\n",
      " 0 0 1 1 0 0 1 0 1 0 1 1 1 1 0 1 0 0 1 1 1 0 0 0 1 0 0 0 1 0 0 1 1 0 0 1 1\n",
      " 1 0 1 1 1 1 1 1 0 1 0 0 1 1 0 1 0 0 0 0 0 1 1 0 1 1 1 0 0 1 1 0 1 0 0 0 0\n",
      " 0 0 0 0 0 1 0 0 0 0 1 1 1 1 0 0 1]\n"
     ]
    }
   ],
   "source": [
    "# Step 1 -> generate a random set of bits\n",
    "alice_bits = np.random.randint(2, size = n)\n",
    "print(alice_bits)"
   ]
  },
  {
   "cell_type": "code",
   "execution_count": 75,
   "id": "b07c4082-0c54-4c27-97ee-009a0079f0ba",
   "metadata": {},
   "outputs": [
    {
     "name": "stdout",
     "output_type": "stream",
     "text": [
      "[1 0 0 1 1 1 1 0 0 1 1 0 0 0 0 0 0 0 0 1 1 0 0 0 1 0 1 1 1 0 0 1 0 1 0 1 1\n",
      " 0 0 1 0 0 1 1 1 1 1 0 0 0 0 0 1 1 1 0 0 0 0 0 0 1 0 1 0 0 0 1 0 1 1 1 0 1\n",
      " 1 0 1 0 0 1 0 0 1 0 0 0 0 0 0 0 0 0 1 0 0 1 0 1 0 1 0 1 0 1 0 1 1 0 1 0 1\n",
      " 0 1 0 1 1 1 1 1 0 1 0 1 1 1 1 0 0]\n"
     ]
    }
   ],
   "source": [
    "# Step 2 -> Alice encodes each bit into a string of qubits in the X or Z-basis, at random. \n",
    "# We generate a random string of bits, a 0 means prepare in Z-basis, while a 1 means prepare in X-basis\n",
    "alice_bases = np.random.randint(2, size = n)\n",
    "print(alice_bases)"
   ]
  },
  {
   "cell_type": "code",
   "execution_count": 84,
   "id": "3e0c48a6-2095-4905-b5e2-a55cdc469a48",
   "metadata": {},
   "outputs": [],
   "source": [
    "# And encode Alice's message\n",
    "message = encode(alice_bits, alice_bases,n)"
   ]
  },
  {
   "cell_type": "code",
   "execution_count": 85,
   "id": "ac9a9dd3-86b4-41b3-9cba-910fbcdf06fa",
   "metadata": {},
   "outputs": [
    {
     "name": "stdout",
     "output_type": "stream",
     "text": [
      "bit = 0\n",
      "basis=1\n"
     ]
    },
    {
     "data": {
      "image/png": "[encoded data removed]",
      "text/plain": [
       "<Figure size 269.064x200.667 with 1 Axes>"
      ]
     },
     "execution_count": 85,
     "metadata": {},
     "output_type": "execute_result"
    }
   ],
   "source": [
    "print('bit = %i' % alice_bits[0])\n",
    "print('basis=%i' % alice_bases[0])\n",
    "message[0].draw(output=\"mpl\")"
   ]
  },
  {
   "cell_type": "markdown",
   "id": "1ce1a6ad-feee-4e60-9021-13871bd1893d",
   "metadata": {},
   "source": [
    "#### Interception"
   ]
  },
  {
   "cell_type": "code",
   "execution_count": 86,
   "id": "7c31cef4-39c2-4714-bd14-947fecdf1a38",
   "metadata": {},
   "outputs": [
    {
     "name": "stdout",
     "output_type": "stream",
     "text": [
      "Eve's intercepted message: [0, 0, 0, 1, 0, 1, 1, 1, 1, 1, 0, 1, 1, 1, 0, 1, 0, 0, 0, 1, 0, 1, 1, 0, 1, 0, 1, 1, 0, 0, 0, 1, 0, 1, 1, 1, 1, 0, 1, 1, 1, 0, 0, 1, 1, 0, 0, 0, 1, 1, 1, 0, 1, 0, 0, 0, 1, 1, 0, 0, 0, 1, 0, 1, 0, 0, 0, 0, 1, 1, 0, 0, 1, 1, 1, 0, 1, 1, 1, 0, 1, 0, 0, 1, 0, 1, 1, 1, 0, 1, 1, 0, 1, 1, 1, 1, 1, 0, 1, 1, 1, 1, 0, 1, 1, 0, 0, 0, 1, 0, 1, 0, 0, 0, 0, 0, 1, 0, 1, 0, 0, 1, 1, 1, 0, 0, 1, 1]\n"
     ]
    }
   ],
   "source": [
    "eve_bases = np.random.randint(2, size = n)\n",
    "intercepted_message = measure_message(message, eve_bases,n)\n",
    "print(f\"Eve's intercepted message: {intercepted_message}\")"
   ]
  },
  {
   "cell_type": "code",
   "execution_count": 87,
   "id": "e2b6a923-3e8e-47b8-a502-41a27743c11b",
   "metadata": {},
   "outputs": [
    {
     "data": {
      "image/png": "[encoded data removed]",
      "text/plain": [
       "<Figure size 352.675x200.667 with 1 Axes>"
      ]
     },
     "execution_count": 87,
     "metadata": {},
     "output_type": "execute_result"
    }
   ],
   "source": [
    "message[0].draw(output=\"mpl\")"
   ]
  },
  {
   "cell_type": "code",
   "execution_count": 88,
   "id": "110a2b71-fdf9-476c-803d-4518211549cd",
   "metadata": {},
   "outputs": [
    {
     "name": "stdout",
     "output_type": "stream",
     "text": [
      "[0 0 0 0 0 0 0 0 1 1 0 0 0 0 1 0 1 0 0 0 0 0 0 0 0 0 1 1 1 0 1 1 1 1 1 1 0\n",
      " 0 1 1 0 0 0 0 1 1 0 0 0 1 1 1 0 1 0 1 1 0 1 0 1 0 0 1 1 1 0 1 0 1 1 0 0 1\n",
      " 1 0 0 0 0 1 0 1 0 0 0 1 0 0 0 0 1 0 0 1 1 0 0 1 1 1 0 0 1 1 0 1 0 1 0 1 0\n",
      " 1 1 0 0 0 0 1 1 0 1 1 0 1 1 1 0 1]\n"
     ]
    }
   ],
   "source": [
    "# Step 3 Bob measure each qubit in a random base, X or Z\n",
    "bob_bases = np.random.randint(2, size = n)\n",
    "print(bob_bases)"
   ]
  },
  {
   "cell_type": "code",
   "execution_count": 89,
   "id": "69f52b2d-2c50-423b-8d49-fc7c5fe5ea18",
   "metadata": {},
   "outputs": [
    {
     "data": {
      "image/png": "[encoded data removed]",
      "text/plain": [
       "<Figure size 436.286x200.667 with 1 Axes>"
      ]
     },
     "execution_count": 89,
     "metadata": {},
     "output_type": "execute_result"
    }
   ],
   "source": [
    "bob_results = measure_message(message, bob_bases, n)\n",
    "message[0].draw(output=\"mpl\")"
   ]
  },
  {
   "cell_type": "code",
   "execution_count": 90,
   "id": "f777ba36-aa76-4f6c-889e-1c55e2adea09",
   "metadata": {},
   "outputs": [
    {
     "name": "stdout",
     "output_type": "stream",
     "text": [
      "[1, 0, 0, 1, 0, 0, 0, 1, 0, 0, 0, 1, 1, 1, 1, 1, 1, 0, 1, 0, 0, 1, 1, 0, 0, 0, 0, 0, 0, 1, 0, 1, 1, 0, 1, 0, 1, 0, 1, 0, 1, 0, 0, 1, 1, 1, 0, 0, 1, 0, 1, 0, 0, 1, 0, 0, 0, 0, 0, 0, 1, 1, 0, 0, 0, 0, 0, 0, 0, 1, 0, 0, 1, 1, 0, 0, 1, 1, 0, 1, 1, 0, 0, 1, 1, 0, 1, 1, 0, 1, 1, 0, 0, 0, 0, 1, 1, 0, 1, 1, 1, 0, 0, 0, 1, 0, 1, 0, 0, 1, 1, 0, 0, 0, 0, 0, 1, 0, 0, 0, 1, 1, 1, 0, 0, 0, 1, 0]\n"
     ]
    }
   ],
   "source": [
    "print(bob_results)"
   ]
  },
  {
   "cell_type": "code",
   "execution_count": 91,
   "id": "377c58e5-497c-4350-804d-486bd6d5e128",
   "metadata": {},
   "outputs": [
    {
     "name": "stdout",
     "output_type": "stream",
     "text": [
      "Alice's 71 key: [0, 1, 1, 1, 1, 1, 1, 1, 0, 0, 1, 1, 0, 0, 1, 0, 0, 0, 1, 1, 0, 0, 1, 1, 0, 0, 1, 1, 1, 0, 1, 0, 0, 0, 0, 0, 1, 1, 0, 1, 1, 1, 0, 1, 1, 1, 1, 1, 0, 1, 1, 0, 1, 0, 1, 0, 1, 1, 1, 1, 0, 0, 0, 0, 0, 0, 0, 1, 1, 0, 0]\n"
     ]
    }
   ],
   "source": [
    "alice_key = create_key(alice_bases,bob_bases,alice_bits,n)\n",
    "print(f\"Alice's {len(alice_key)} key: {alice_key}\")"
   ]
  },
  {
   "cell_type": "code",
   "execution_count": 92,
   "id": "dcdb1c03-7974-467e-bd34-8a77b9871d67",
   "metadata": {},
   "outputs": [
    {
     "name": "stdout",
     "output_type": "stream",
     "text": [
      "Bob's 71 key: [0, 0, 1, 0, 1, 1, 1, 1, 0, 1, 1, 1, 0, 0, 0, 0, 0, 1, 1, 0, 0, 0, 0, 1, 0, 1, 1, 0, 1, 1, 0, 0, 0, 0, 0, 0, 0, 1, 0, 1, 1, 0, 0, 1, 0, 1, 1, 1, 1, 1, 1, 0, 1, 0, 1, 0, 1, 1, 0, 1, 0, 0, 0, 0, 0, 0, 1, 0, 0, 0, 1]\n"
     ]
    }
   ],
   "source": [
    "bob_key = create_key(alice_bases, bob_bases, bob_results,n)\n",
    "print(f\"Bob's {len(bob_key)} key: {bob_key}\" )"
   ]
  },
  {
   "cell_type": "code",
   "execution_count": 96,
   "id": "1ce48921-79ff-46c8-94b9-cf16e8767c4a",
   "metadata": {},
   "outputs": [],
   "source": [
    "sample_size = 5\n",
    "bit_selection = np.random.randint(n, size = sample_size)"
   ]
  },
  {
   "cell_type": "code",
   "execution_count": 97,
   "id": "042c1c1f-dff4-4635-8962-b5ec16e9c599",
   "metadata": {},
   "outputs": [
    {
     "name": "stdout",
     "output_type": "stream",
     "text": [
      "Bob's sample:\t[0, 0, 0, 1, 1]\n",
      "Alice's sample:\t[0, 0, 0, 1, 1]\n"
     ]
    }
   ],
   "source": [
    "bob_sample = sample_bits(bob_key, bit_selection)\n",
    "alice_sample = sample_bits(alice_key, bit_selection)\n",
    "print(f\"Bob's sample:\\t{bob_sample}\\nAlice's sample:\\t{alice_sample}\")"
   ]
  },
  {
   "cell_type": "code",
   "execution_count": 98,
   "id": "6b24fb3a-5083-4add-bf50-95af0be084e9",
   "metadata": {},
   "outputs": [
    {
     "data": {
      "text/plain": [
       "True"
      ]
     },
     "execution_count": 98,
     "metadata": {},
     "output_type": "execute_result"
    }
   ],
   "source": [
    "bob_sample == alice_sample"
   ]
  },
  {
   "cell_type": "markdown",
   "id": "444cff58-4f36-44fd-b589-20a3f3360f0d",
   "metadata": {},
   "source": [
    "### Discussions\n",
    "\n",
    "For this type of interception, in which Eve measures all the qubits, there is a small chance that Bob and Alice's samples could match, and Alice sends her vulnerable message through Eve's channel. \n",
    "\n",
    "1. For Alice and Bob to use a qubit's result, they must both have chosen the same basis. If Eve chooses this basis too, then she will successfully intercept the message without introducing any error. There's a 50% chance of this happening, and the interception goes undetected.\n",
    "2. If Eve chooses the wrong basis, ther's still a 50% chance Bob will measure the value Alice was trying to send, thus the interception goes undetected.\n"
   ]
  },
  {
   "cell_type": "markdown",
   "id": "01fc0cdb-6768-4d15-86aa-baeb49932e24",
   "metadata": {},
   "source": [
    "Thus, if Alice and Bob compare only 1 bit from their keys, the probability of a match is 0.75 (they will not notice Eve's intervention). But, if they measure 2 bits, there's a $075^2=0.5625$ chance of interception not being noticed. Therefore, the probability of Eve going undetected is $P(undetected) = 0.75^x$ where $x$ is the number of bits Alice and Bob chose to compare."
   ]
  },
  {
   "cell_type": "code",
   "execution_count": null,
   "id": "61bafe71-00e8-4f6a-8f59-d07652f6d24e",
   "metadata": {},
   "outputs": [],
   "source": []
  }
 ],
 "metadata": {
  "kernelspec": {
   "display_name": "Python 3 (ipykernel)",
   "language": "python",
   "name": "python3"
  },
  "language_info": {
   "codemirror_mode": {
    "name": "ipython",
    "version": 3
   },
   "file_extension": ".py",
   "mimetype": "text/x-python",
   "name": "python",
   "nbconvert_exporter": "python",
   "pygments_lexer": "ipython3",
   "version": "3.11.6"
  }
 },
 "nbformat": 4,
 "nbformat_minor": 5
}
