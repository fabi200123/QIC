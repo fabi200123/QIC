{
 "cells": [
  {
   "cell_type": "markdown",
   "id": "c2b46409-81c1-498e-9d8b-0128433517a0",
   "metadata": {},
   "source": [
    "# LAB5 QIC"
   ]
  },
  {
   "cell_type": "code",
   "execution_count": 99,
   "id": "f9bfa4b6-1489-4cf5-9ec2-f2789536b564",
   "metadata": {},
   "outputs": [
    {
     "name": "stdout",
     "output_type": "stream",
     "text": [
      "Requirement already satisfied: qiskit in /opt/conda/lib/python3.11/site-packages (0.45.0)\n",
      "Requirement already satisfied: qiskit-aer in /opt/conda/lib/python3.11/site-packages (0.13.0)\n",
      "Requirement already satisfied: qiskit-terra in /opt/conda/lib/python3.11/site-packages (0.45.0)\n",
      "Requirement already satisfied: seaborn in /opt/conda/lib/python3.11/site-packages (0.13.0)\n",
      "Requirement already satisfied: numpy in /opt/conda/lib/python3.11/site-packages (1.23.5)\n",
      "Requirement already satisfied: matplotlib in /opt/conda/lib/python3.11/site-packages (3.8.1)\n",
      "Requirement already satisfied: pip in /opt/conda/lib/python3.11/site-packages (23.3)\n",
      "Requirement already satisfied: install in /opt/conda/lib/python3.11/site-packages (1.3.5)\n",
      "Requirement already satisfied: qiskit-ibmq-provider in /opt/conda/lib/python3.11/site-packages (0.20.2)\n",
      "Requirement already satisfied: rustworkx>=0.13.0 in /opt/conda/lib/python3.11/site-packages (from qiskit-terra) (0.13.2)\n",
      "Requirement already satisfied: ply>=3.10 in /opt/conda/lib/python3.11/site-packages (from qiskit-terra) (3.11)\n",
      "Requirement already satisfied: psutil>=5 in /opt/conda/lib/python3.11/site-packages (from qiskit-terra) (5.9.5)\n",
      "Requirement already satisfied: scipy>=1.5 in /opt/conda/lib/python3.11/site-packages (from qiskit-terra) (1.11.3)\n",
      "Requirement already satisfied: sympy>=1.3 in /opt/conda/lib/python3.11/site-packages (from qiskit-terra) (1.12)\n",
      "Requirement already satisfied: dill>=0.3 in /opt/conda/lib/python3.11/site-packages (from qiskit-terra) (0.3.7)\n",
      "Requirement already satisfied: python-dateutil>=2.8.0 in /opt/conda/lib/python3.11/site-packages (from qiskit-terra) (2.8.2)\n",
      "Requirement already satisfied: stevedore>=3.0.0 in /opt/conda/lib/python3.11/site-packages (from qiskit-terra) (5.1.0)\n",
      "Requirement already satisfied: symengine<0.10,>=0.9 in /opt/conda/lib/python3.11/site-packages (from qiskit-terra) (0.9.2)\n",
      "Requirement already satisfied: pandas>=1.2 in /opt/conda/lib/python3.11/site-packages (from seaborn) (2.1.3)\n",
      "Requirement already satisfied: contourpy>=1.0.1 in /opt/conda/lib/python3.11/site-packages (from matplotlib) (1.2.0)\n",
      "Requirement already satisfied: cycler>=0.10 in /opt/conda/lib/python3.11/site-packages (from matplotlib) (0.12.1)\n",
      "Requirement already satisfied: fonttools>=4.22.0 in /opt/conda/lib/python3.11/site-packages (from matplotlib) (4.44.0)\n",
      "Requirement already satisfied: kiwisolver>=1.3.1 in /opt/conda/lib/python3.11/site-packages (from matplotlib) (1.4.5)\n",
      "Requirement already satisfied: packaging>=20.0 in /opt/conda/lib/python3.11/site-packages (from matplotlib) (23.2)\n",
      "Requirement already satisfied: pillow>=8 in /opt/conda/lib/python3.11/site-packages (from matplotlib) (10.1.0)\n",
      "Requirement already satisfied: pyparsing>=2.3.1 in /opt/conda/lib/python3.11/site-packages (from matplotlib) (3.1.1)\n",
      "Requirement already satisfied: requests>=2.19 in /opt/conda/lib/python3.11/site-packages (from qiskit-ibmq-provider) (2.31.0)\n",
      "Requirement already satisfied: requests-ntlm<=1.1.0 in /opt/conda/lib/python3.11/site-packages (from qiskit-ibmq-provider) (1.1.0)\n",
      "Requirement already satisfied: urllib3>=1.21.1 in /opt/conda/lib/python3.11/site-packages (from qiskit-ibmq-provider) (2.0.7)\n",
      "Requirement already satisfied: websocket-client>=1.5.1 in /opt/conda/lib/python3.11/site-packages (from qiskit-ibmq-provider) (1.6.4)\n",
      "Requirement already satisfied: websockets>=10.0 in /opt/conda/lib/python3.11/site-packages (from qiskit-ibmq-provider) (12.0)\n",
      "Requirement already satisfied: pytz>=2020.1 in /opt/conda/lib/python3.11/site-packages (from pandas>=1.2->seaborn) (2023.3.post1)\n",
      "Requirement already satisfied: tzdata>=2022.1 in /opt/conda/lib/python3.11/site-packages (from pandas>=1.2->seaborn) (2023.3)\n",
      "Requirement already satisfied: six>=1.5 in /opt/conda/lib/python3.11/site-packages (from python-dateutil>=2.8.0->qiskit-terra) (1.16.0)\n",
      "Requirement already satisfied: charset-normalizer<4,>=2 in /opt/conda/lib/python3.11/site-packages (from requests>=2.19->qiskit-ibmq-provider) (3.3.0)\n",
      "Requirement already satisfied: idna<4,>=2.5 in /opt/conda/lib/python3.11/site-packages (from requests>=2.19->qiskit-ibmq-provider) (3.4)\n",
      "Requirement already satisfied: certifi>=2017.4.17 in /opt/conda/lib/python3.11/site-packages (from requests>=2.19->qiskit-ibmq-provider) (2023.7.22)\n",
      "Requirement already satisfied: ntlm-auth>=1.0.2 in /opt/conda/lib/python3.11/site-packages (from requests-ntlm<=1.1.0->qiskit-ibmq-provider) (1.5.0)\n",
      "Requirement already satisfied: cryptography>=1.3 in /opt/conda/lib/python3.11/site-packages (from requests-ntlm<=1.1.0->qiskit-ibmq-provider) (41.0.4)\n",
      "Requirement already satisfied: pbr!=2.1.0,>=2.0.0 in /opt/conda/lib/python3.11/site-packages (from stevedore>=3.0.0->qiskit-terra) (6.0.0)\n",
      "Requirement already satisfied: mpmath>=0.19 in /opt/conda/lib/python3.11/site-packages (from sympy>=1.3->qiskit-terra) (1.3.0)\n",
      "Requirement already satisfied: cffi>=1.12 in /opt/conda/lib/python3.11/site-packages (from cryptography>=1.3->requests-ntlm<=1.1.0->qiskit-ibmq-provider) (1.16.0)\n",
      "Requirement already satisfied: pycparser in /opt/conda/lib/python3.11/site-packages (from cffi>=1.12->cryptography>=1.3->requests-ntlm<=1.1.0->qiskit-ibmq-provider) (2.21)\n"
     ]
    }
   ],
   "source": [
    "!pip install qiskit qiskit-aer qiskit-terra seaborn numpy matplotlib pip install qiskit-ibmq-provider"
   ]
  },
  {
   "cell_type": "code",
   "execution_count": 100,
   "id": "dfc776d6-5228-449c-bc1a-13a332205f67",
   "metadata": {},
   "outputs": [
    {
     "data": {
      "text/html": [
       "<h3>Version Information</h3><table><tr><th>Software</th><th>Version</th></tr><tr><td><code>qiskit</code></td><td>0.45.0</td></tr><tr><td><code>qiskit_aer</code></td><td>0.13.0</td></tr><tr><th colspan='2'>System information</th></tr><tr><td>Python version</td><td>3.11.6</td></tr><tr><td>Python compiler</td><td>GCC 12.3.0</td></tr><tr><td>Python build</td><td>main, Oct  3 2023 10:40:35</td></tr><tr><td>OS</td><td>Linux</td></tr><tr><td>CPUs</td><td>8</td></tr><tr><td>Memory (Gb)</td><td>7.758083343505859</td></tr><tr><td colspan='2'>Fri Nov 17 11:44:55 2023 UTC</td></tr></table>"
      ],
      "text/plain": [
       "<IPython.core.display.HTML object>"
      ]
     },
     "metadata": {},
     "output_type": "display_data"
    }
   ],
   "source": [
    "import qiskit.tools.jupyter\n",
    "%qiskit_version_table"
   ]
  },
  {
   "cell_type": "code",
   "execution_count": 101,
   "id": "fbb843e8-e0b7-4dde-a1d8-7594f2dfd2d1",
   "metadata": {},
   "outputs": [],
   "source": [
    "from qiskit import IBMQ, Aer, transpile, execute\n",
    "from qiskit import QuantumCircuit, ClassicalRegister, QuantumRegister, assemble\n",
    "from qiskit.visualization import plot_histogram, plot_bloch_vector,plot_bloch_multivector\n",
    "from qiskit import IBMQ\n",
    "import math\n",
    "from qiskit.providers.ibmq import least_busy\n",
    "from qiskit.tools.monitor import job_monitor\n",
    "import numpy as np"
   ]
  },
  {
   "cell_type": "markdown",
   "id": "8451017e-4eda-44e0-969a-51f078214029",
   "metadata": {},
   "source": [
    "## Superdense Coding"
   ]
  },
  {
   "cell_type": "markdown",
   "id": "896fb8cb-2ee8-430b-95e6-beca542307d9",
   "metadata": {},
   "source": [
    "Superdense Coding and Quantum Teleportation are closely related. Quantum teleportation is the process in which the state of the qubit $\\ket{\\psi}$ can be transmitted from one location to another, using two bits of classical communication and a Bell pair. It's a protocol that destroys the quantum state of a qubit in one location and recreates it on a qubit at a distant location, with the help of shared entanglement. Superdense coding, on the other hand, is a procedure to send two classical bits to another location using just a single qubit of communication."
   ]
  },
  {
   "cell_type": "markdown",
   "id": "e96fb73f-bda5-48ad-a889-316f82ebc766",
   "metadata": {},
   "source": [
    "### The procedure"
   ]
  },
  {
   "cell_type": "markdown",
   "id": "220f17d7-40ef-4ac6-9552-e0ab7973074d",
   "metadata": {},
   "source": [
    "#### Step 1\n",
    "\n",
    "The process is started by a third party, Charlie. Two qubits are prepared by Charlie in an entangled state. He initially starts the 2 qubits in the basis state $\\ket{0}$, on which he apply the Hadamard gate on the first qubit and CNOT gate (first qubit is the control qubit). \n",
    "\n",
    "$\\ket{00} = \\ket{0}_A \\otimes \\ket{0}_B$\n",
    "\n",
    "After applying the H gate we obtain the state:\n",
    "\n",
    "$$\n",
    "\\ket{+0}=\\frac{1}{\\sqrt{2}}\\left(\\ket{00}+\\ket{10}\\right)\n",
    "$$\n",
    "\n",
    "After applying the CNOT gate results the state:\n",
    "\n",
    "$$\n",
    "CNOT: \\frac{1}{\\sqrt{2}}\\left(\\ket{00}+\\ket{10}\\right) \\rightarrow \\frac{1}{\\sqrt{2}}\\left(\\ket{00}+\\ket{11}\\right)\n",
    "$$"
   ]
  },
  {
   "cell_type": "markdown",
   "id": "2feff6d1-2825-457d-b302-7d49914ffe40",
   "metadata": {},
   "source": [
    "#### Step 2\n",
    "\n",
    "Charlie sends the first qubit to Alice and the second qubit to Bob. The goal is for Alice to send 2 classical bits of information to Bob using her qubit. But before she does, she needs to apply a set of quantum gates to her qubit depending on the 2 bits of information she wants to send\n",
    "\n",
    "| Intended Message | Applied Gate | Resulting State ($ \\frac{1}{\\sqrt{2}}$) |\n",
    "|------------------|--------------|---------------------------------------------|\n",
    "| 00               | I            | $\\ket{00}+\\ket{11}$                         |\n",
    "| 01               | X            | $\\ket{10}+\\ket{01}$                         |\n",
    "| 10               | Z            | $\\ket{00}-\\ket{11}$                         |\n",
    "| 11               | ZX           | $-\\ket{10}+\\ket{01}$                        |"
   ]
  },
  {
   "cell_type": "markdown",
   "id": "c87bacfe-3415-4655-96bc-f921212a1df3",
   "metadata": {},
   "source": [
    "#### Step 3\n",
    "\n",
    "Bob receives Alice's qubit and uses his qubit to decode Alice's message. Bob applies CNOT gate using leftmost qubit as control and rightmost as target. Then he applies H gate and finally performs a measurement on both qubits to extract Alice's message.\n",
    "\n",
    "| Bob Receives ($ \\frac{1}{\\sqrt{2}}$)        | After CNOT gate ($ \\frac{1}{\\sqrt{2}}$) | After H-gate |\n",
    "|---------------------------------------------|-----------------------------------------|--------------|\n",
    "| $\\ket{00}+\\ket{11}$                         | $\\ket{00}+\\ket{01}$                     | $\\ket{00}$   |\n",
    "| $\\ket{10}+\\ket{01}$                         | $\\ket{11}+\\ket{01}$                     | $\\ket{01}$   |\n",
    "| $\\ket{00}-\\ket{11}$                         | $\\ket{00}-\\ket{10}$                     | $\\ket{10}$   |\n",
    "| $-\\ket{10}+\\ket{01}$                        | $-\\ket{11}+\\ket{01}$                    | $\\ket{11}$   |"
   ]
  },
  {
   "cell_type": "markdown",
   "id": "78aba165-1bbf-4e47-a650-efefe22b4625",
   "metadata": {},
   "source": [
    "### Qiskit Implementation"
   ]
  },
  {
   "cell_type": "code",
   "execution_count": 104,
   "id": "53e18b06-d967-4900-9958-a50908158ffc",
   "metadata": {},
   "outputs": [],
   "source": [
    "# function to create a bell pair\n",
    "def create_bell_pair():\n",
    "    \"\"\"\n",
    "    Returns:\n",
    "        QuantumCircuit: Circuit that produces a Bell pair\n",
    "    \"\"\"\n",
    "    qc = QuantumCircuit(2)\n",
    "    qc.h(1)\n",
    "    qc.cx(1,0)\n",
    "    return qc"
   ]
  },
  {
   "cell_type": "code",
   "execution_count": 105,
   "id": "414b1730-4da5-404d-846f-1787e991a98b",
   "metadata": {},
   "outputs": [],
   "source": [
    "# function to encode message\n",
    "def encode_message(qc, qubit, msg):\n",
    "    \"\"\"Encodes a two-bit message on qc using the superdense coding protocol\n",
    "    Args:\n",
    "        qc (QuantumCircuit): Circuit to encode message on\n",
    "        qubit (int): Which qubit to add the gate to\n",
    "        msg (str): Two-bit message to send\n",
    "    Returns:\n",
    "        QuantumCircuit: Circuit that, when decoded, will produce msg\n",
    "    Raises:\n",
    "        ValueError if msg is wrong length or contains invalid characters\n",
    "    \"\"\"\n",
    "    if len(msg) != 2 or not set(msg).issubset({\"0\",\"1\"}):\n",
    "        raise ValueError(f\"message '{msg}' is invalid\")\n",
    "    if msg[1] == \"1\":\n",
    "        qc.x(qubit)\n",
    "    if msg[0] == \"1\":\n",
    "        qc.z(qubit)\n",
    "    return qc\n",
    "    "
   ]
  },
  {
   "cell_type": "code",
   "execution_count": 106,
   "id": "ee26d766-363f-40ed-a3e1-590662c7353d",
   "metadata": {},
   "outputs": [],
   "source": [
    "# function to decode message\n",
    "def decode_message(qc):\n",
    "    qc.cx(1, 0)\n",
    "    qc.h(1)\n",
    "    return qc"
   ]
  },
  {
   "cell_type": "code",
   "execution_count": 107,
   "id": "9a74f24f-c3e2-4241-b8bb-4c643b7a8360",
   "metadata": {},
   "outputs": [],
   "source": [
    "# Step 1, Charlie creates the Bell pair\n",
    "qc = create_bell_pair()"
   ]
  },
  {
   "cell_type": "code",
   "execution_count": 108,
   "id": "75f8c2b9-34da-4c27-8afa-b22a284bd2ce",
   "metadata": {},
   "outputs": [
    {
     "data": {
      "image/png": "[encoded data removed]",
      "text/plain": [
       "<Figure size 370.906x200.667 with 1 Axes>"
      ]
     },
     "execution_count": 108,
     "metadata": {},
     "output_type": "execute_result"
    }
   ],
   "source": [
    "qc.barrier()\n",
    "qc.draw(output = \"mpl\")"
   ]
  },
  {
   "cell_type": "code",
   "execution_count": 110,
   "id": "1e67a4af-78d9-49f1-ac6e-93a634509fcb",
   "metadata": {},
   "outputs": [],
   "source": [
    "# Qubit 0 goes to Alice and 1 goes to Bob\n",
    "# Alice encodes her message on 1 qubit.\n",
    "message = \"10\"\n",
    "qc = encode_message(qc, 1, message)"
   ]
  },
  {
   "cell_type": "code",
   "execution_count": 111,
   "id": "17c0e49d-16de-4a43-90e0-059bdc897448",
   "metadata": {},
   "outputs": [
    {
     "data": {
      "image/png": "[encoded data removed]",
      "text/plain": [
       "<Figure size 538.128x200.667 with 1 Axes>"
      ]
     },
     "execution_count": 111,
     "metadata": {},
     "output_type": "execute_result"
    }
   ],
   "source": [
    "qc.barrier()\n",
    "qc.draw(output = \"mpl\")"
   ]
  },
  {
   "cell_type": "code",
   "execution_count": 112,
   "id": "048d7a4a-caa8-415a-8409-b6df7e815068",
   "metadata": {},
   "outputs": [
    {
     "data": {
      "image/png": "[encoded data removed]",
      "text/plain": [
       "<Figure size 1082.05x284.278 with 1 Axes>"
      ]
     },
     "execution_count": 112,
     "metadata": {},
     "output_type": "execute_result"
    }
   ],
   "source": [
    "# Alice send her qubit to Bob.\n",
    "# Bob applies the recovery protocol:\n",
    "qc = decode_message(qc)\n",
    "qc.barrier()\n",
    "qc.measure_all()\n",
    "qc.draw(output = \"mpl\")"
   ]
  },
  {
   "cell_type": "code",
   "execution_count": 113,
   "id": "0e7e4028-eef6-41a1-a9c9-65a30e4c2730",
   "metadata": {},
   "outputs": [
    {
     "name": "stdout",
     "output_type": "stream",
     "text": [
      "{'10': 1024}\n"
     ]
    },
    {
     "data": {
      "image/png": "[encoded data removed]",
      "text/plain": [
       "<Figure size 700x500 with 1 Axes>"
      ]
     },
     "execution_count": 113,
     "metadata": {},
     "output_type": "execute_result"
    }
   ],
   "source": [
    "aer_sim = Aer.get_backend('aer_simulator')\n",
    "result = aer_sim.run(qc).result()\n",
    "counts = result.get_counts(qc)\n",
    "print(counts)\n",
    "plot_histogram(counts)"
   ]
  },
  {
   "cell_type": "code",
   "execution_count": 118,
   "id": "9ea87b48-c424-42ee-84e9-416f3c12ccbf",
   "metadata": {},
   "outputs": [
    {
     "name": "stderr",
     "output_type": "stream",
     "text": [
      "configrc.store_credentials:WARNING:2023-11-17 12:12:50,190: Credentials already present. Set overwrite=True to overwrite.\n",
      "ibmqfactory.load_account:WARNING:2023-11-17 12:12:50,506: Credentials are already in use. The existing account in the session will be replaced.\n"
     ]
    },
    {
     "name": "stdout",
     "output_type": "stream",
     "text": [
      "least busy backend:  ibm_nairobi\n"
     ]
    }
   ],
   "source": [
    "# Load our saved IBMQ accounts and get the least busy backend device with less than or equal to nqubits\n",
    "IBMQ.save_account(\"542beb7f449ff1730b75e73507e0436ddb63c5f926222405d98077a734d14d0fb876de94d1edb8f9a550e64f4b9f4af656c312325014fe4ec568bfc52442546a\")\n",
    "IBMQ.load_account()\n",
    "provider = IBMQ.get_provider(hub='ibm-q')\n",
    "backend = least_busy(provider.backends(filters=lambda x: x.configuration().n_qubits >= 2 \n",
    "                                       and not x.configuration().simulator \n",
    "                                       and x.status().operational==True))\n",
    "print(\"least busy backend: \", backend)"
   ]
  },
  {
   "cell_type": "code",
   "execution_count": 119,
   "id": "17192190-c370-4004-ac45-c1083604c3dc",
   "metadata": {},
   "outputs": [],
   "source": [
    "t_qc = transpile(qc, backend, optimization_level=3)\n",
    "job = backend.run(t_qc)"
   ]
  },
  {
   "cell_type": "code",
   "execution_count": null,
   "id": "0ab56383-fb99-4b85-8948-488edd18de11",
   "metadata": {},
   "outputs": [],
   "source": [
    "# Monitoring our job\n",
    "from qiskit.tools.monitor import job_monitor\n",
    "job_monitor(job)"
   ]
  },
  {
   "cell_type": "code",
   "execution_count": null,
   "id": "49e518dd-bc33-4f97-aa86-7ac65df06e8a",
   "metadata": {},
   "outputs": [],
   "source": [
    "# Plotting our result\n",
    "result = job.result()\n",
    "plot_histogram(result.get_counts(qc))"
   ]
  },
  {
   "cell_type": "code",
   "execution_count": null,
   "id": "eec3f3fd-651f-4356-9f5e-027416866a45",
   "metadata": {},
   "outputs": [],
   "source": [
    "correct_results = result.get_counts(qc)[message]\n",
    "accuracy = (correct_results/shots)*100\n",
    "print(f\"Accuracy = {accuracy:.2f}%\")"
   ]
  },
  {
   "cell_type": "code",
   "execution_count": null,
   "id": "df1abae6-bf2a-4c87-b75d-169cd4389624",
   "metadata": {},
   "outputs": [],
   "source": []
  }
 ],
 "metadata": {
  "kernelspec": {
   "display_name": "Python 3 (ipykernel)",
   "language": "python",
   "name": "python3"
  },
  "language_info": {
   "codemirror_mode": {
    "name": "ipython",
    "version": 3
   },
   "file_extension": ".py",
   "mimetype": "text/x-python",
   "name": "python",
   "nbconvert_exporter": "python",
   "pygments_lexer": "ipython3",
   "version": "3.11.6"
  }
 },
 "nbformat": 4,
 "nbformat_minor": 5
}
